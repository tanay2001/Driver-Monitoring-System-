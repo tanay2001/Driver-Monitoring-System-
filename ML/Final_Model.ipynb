{
  "nbformat": 4,
  "nbformat_minor": 0,
  "metadata": {
    "colab": {
      "name": "Copy of Final Model ",
      "provenance": [],
      "collapsed_sections": [],
      "include_colab_link": true
    },
    "kernelspec": {
      "name": "python3",
      "display_name": "Python 3"
    },
    "accelerator": "GPU"
  },
  "cells": [
    {
      "cell_type": "markdown",
      "metadata": {
        "id": "view-in-github",
        "colab_type": "text"
      },
      "source": [
        "<a href=\"https://colab.research.google.com/github/tanay2001/Driver-Monitoring-System-/blob/master/ML/Final_Model.ipynb\" target=\"_parent\"><img src=\"https://colab.research.google.com/assets/colab-badge.svg\" alt=\"Open In Colab\"/></a>"
      ]
    },
    {
      "cell_type": "code",
      "metadata": {
        "id": "wUcxFDn_LIuZ",
        "outputId": "1c274cf5-0f82-4012-8a20-4341c5e68521",
        "colab": {
          "base_uri": "https://localhost:8080/",
          "height": 34
        }
      },
      "source": [
        "import numpy as np\n",
        "import pandas as pd\n",
        "import tensorflow as tf\n",
        "from tensorflow.keras import layers\n",
        "from datetime import datetime\n",
        "from matplotlib import pyplot as plt\n",
        "from matplotlib import dates as md\n",
        "import plotly.express as px\n",
        "from sklearn.preprocessing import StandardScaler\n",
        "from tensorflow.keras.models import Sequential, Model\n",
        "from tensorflow.keras.layers import Input, Conv1D, Dense, Activation, Dropout, Lambda, Multiply, Add, Concatenate\n",
        "from tensorflow.keras.layers import Flatten\n",
        "from tensorflow.keras.layers import Conv1D,Conv2D,LSTM,GRU,Lambda\n",
        "from tensorflow.keras.layers import MaxPooling1D, Bidirectional\n",
        "import datetime\n",
        "from tqdm import tqdm\n",
        "from sklearn.utils import shuffle\n",
        "import os\n",
        "from scipy import signal\n",
        "import gc\n",
        "from google.colab import drive\n",
        "drive.mount('/content/drive')"
      ],
      "execution_count": null,
      "outputs": [
        {
          "output_type": "stream",
          "text": [
            "Mounted at /content/drive\n"
          ],
          "name": "stdout"
        }
      ]
    },
    {
      "cell_type": "code",
      "metadata": {
        "id": "eNaKu5WULg9b",
        "outputId": "1ec7c88a-ede0-45ca-f6a9-e474b0674a77",
        "colab": {
          "base_uri": "https://localhost:8080/",
          "height": 357
        }
      },
      "source": [
        "df=pd.DataFrame()\n",
        "df1 = pd.DataFrame()\n",
        "os.chdir('/content/drive/My Drive/labelled_driver_data')\n",
        "for files in os.listdir(os.getcwd()):\n",
        "  print(files)\n",
        "  if files!='river4':\n",
        "    os.chdir('/content/drive/My Drive/labelled_driver_data/{}'.format(files))\n",
        "    for filename in os.listdir(os.getcwd()):\n",
        "        print(filename)\n",
        "        if 'acelerometro' in filename:\n",
        "          data = pd.read_csv(filename ,sep =',', header = 0 )\n",
        "          data.columns=['timestamp','uptimeNanos','X','Y','Z']\n",
        "          data['label'] = 0\n",
        "          data['device'] = 'acc'\n",
        "          data['uptimeNanos'] /= 1e9\n",
        "        elif 'giro' in filename:\n",
        "          data2 = pd.read_csv(filename ,sep =',', header = 0 )\n",
        "          data2.columns=['timestamp','uptimeNanos','X','Y','Z']\n",
        "          data2['label'] = 0\n",
        "          data2['device'] = 'gyr'\n",
        "          data2['uptimeNanos'] /= 1e9\n",
        "        elif 'ground' in filename:\n",
        "          labels = pd.read_csv(filename , sep=',')\n",
        "          labels[' inicio'] += data['uptimeNanos'][0]\n",
        "          labels[' fim'] += data['uptimeNanos'][0]\n",
        "\n",
        "    for event,start, end in labels.values:\n",
        "        l2 = data2.loc[data2.uptimeNanos.between(start, end),['label']].shape[0]\n",
        "        l1 = data.loc[data.uptimeNanos.between(start, end),['label']].shape[0]\n",
        "        data.loc[data.uptimeNanos.between(start, end),['label']] = [event]*l1\n",
        "        data2.loc[data2.uptimeNanos.between(start, end),['label']] = [event]*l2\n",
        "    df1 = pd.concat([data,data2], axis =1 , ignore_index=True)\n",
        "    df = df.append(df1)\n",
        "    del data, data2, labels"
      ],
      "execution_count": null,
      "outputs": [
        {
          "output_type": "stream",
          "text": [
            "driver4\n",
            "acelerometro_terra.txt\n",
            "giroscopio_terra.txt\n",
            "groundTruth.txt\n",
            "aceleracaoLinear_terra.txt\n",
            "driver3\n",
            "acelerometro_terra.txt\n",
            "giroscopio_terra.txt\n",
            "groundTruth.txt\n",
            "aceleracaoLinear_terra.txt\n",
            "driver1\n",
            "acelerometro_terra.txt\n",
            "groundTruth.txt\n",
            "giroscopio_terra.txt\n",
            "aceleracaoLinear_terra.txt\n",
            "driver2\n",
            "acelerometro_terra.txt\n",
            "giroscopio_terra.txt\n",
            "groundTruth.txt\n",
            "aceleracaoLinear_terra.txt\n"
          ],
          "name": "stdout"
        }
      ]
    },
    {
      "cell_type": "code",
      "metadata": {
        "id": "j1fgFh-FWF_w"
      },
      "source": [
        "df.columns =['timedate','time','X_acc','Y_acc','Z_acc','label','device','s','s1','X_gyr','Y_gyr','Z_gyr','s2','s3']\n",
        "df.timedate = pd.to_datetime(df.timedate)\n",
        "df['label'] = df.label.apply(lambda x : 0 if x in ['evento_nao_agressivo',0] else 1)"
      ],
      "execution_count": null,
      "outputs": []
    },
    {
      "cell_type": "code",
      "metadata": {
        "id": "1SytV3jK0o46",
        "outputId": "61576ec8-71dc-48ed-91c1-43910470b8a5",
        "colab": {
          "base_uri": "https://localhost:8080/",
          "height": 34
        }
      },
      "source": [
        "df['time'] = df.timedate.apply(lambda x : x.time())\n",
        "print('The sampling frequency in Hz is:',df.groupby('time').X_gyr.count().mean())"
      ],
      "execution_count": null,
      "outputs": [
        {
          "output_type": "stream",
          "text": [
            "The sampling frequency in Hz is: 50.8816644993498\n"
          ],
          "name": "stdout"
        }
      ]
    },
    {
      "cell_type": "code",
      "metadata": {
        "id": "aLpXwMzNf5hD",
        "outputId": "5d9468e0-9c94-4dff-d01b-299e06a2ce99",
        "colab": {
          "base_uri": "https://localhost:8080/",
          "height": 34
        }
      },
      "source": [
        "print('total time in min',(df.shape[0]/50)/60)"
      ],
      "execution_count": null,
      "outputs": [
        {
          "output_type": "stream",
          "text": [
            "total time in min 52.17066666666666\n"
          ],
          "name": "stdout"
        }
      ]
    },
    {
      "cell_type": "code",
      "metadata": {
        "id": "VWiuTrtgPyWr",
        "outputId": "eb3857d3-bb95-40b6-ea8e-15982318c6c3",
        "colab": {
          "base_uri": "https://localhost:8080/",
          "height": 68
        }
      },
      "source": [
        "df.label.value_counts(normalize=True)"
      ],
      "execution_count": null,
      "outputs": [
        {
          "output_type": "execute_result",
          "data": {
            "text/plain": [
              "0    0.945378\n",
              "1    0.054622\n",
              "Name: label, dtype: float64"
            ]
          },
          "metadata": {
            "tags": []
          },
          "execution_count": 10
        }
      ]
    },
    {
      "cell_type": "code",
      "metadata": {
        "id": "tl_fUvufKp0h"
      },
      "source": [
        "df = df[['timedate','time','X_acc','Y_acc','Z_acc','X_gyr','Y_gyr','Z_gyr','label']]"
      ],
      "execution_count": null,
      "outputs": []
    },
    {
      "cell_type": "code",
      "metadata": {
        "id": "OZN7XeLSMYRA",
        "outputId": "712950da-218e-4027-c1b9-7abbb3d044a4",
        "colab": {
          "base_uri": "https://localhost:8080/",
          "height": 204
        }
      },
      "source": [
        "df.head()"
      ],
      "execution_count": null,
      "outputs": [
        {
          "output_type": "execute_result",
          "data": {
            "text/html": [
              "<div>\n",
              "<style scoped>\n",
              "    .dataframe tbody tr th:only-of-type {\n",
              "        vertical-align: middle;\n",
              "    }\n",
              "\n",
              "    .dataframe tbody tr th {\n",
              "        vertical-align: top;\n",
              "    }\n",
              "\n",
              "    .dataframe thead th {\n",
              "        text-align: right;\n",
              "    }\n",
              "</style>\n",
              "<table border=\"1\" class=\"dataframe\">\n",
              "  <thead>\n",
              "    <tr style=\"text-align: right;\">\n",
              "      <th></th>\n",
              "      <th>timedate</th>\n",
              "      <th>time</th>\n",
              "      <th>X_acc</th>\n",
              "      <th>Y_acc</th>\n",
              "      <th>Z_acc</th>\n",
              "      <th>X_gyr</th>\n",
              "      <th>Y_gyr</th>\n",
              "      <th>Z_gyr</th>\n",
              "      <th>label</th>\n",
              "    </tr>\n",
              "  </thead>\n",
              "  <tbody>\n",
              "    <tr>\n",
              "      <th>0</th>\n",
              "      <td>2016-05-14 10:54:33</td>\n",
              "      <td>10:54:33</td>\n",
              "      <td>-0.161602</td>\n",
              "      <td>0.120174</td>\n",
              "      <td>9.596758</td>\n",
              "      <td>-0.070372</td>\n",
              "      <td>0.000844</td>\n",
              "      <td>0.029619</td>\n",
              "      <td>0</td>\n",
              "    </tr>\n",
              "    <tr>\n",
              "      <th>1</th>\n",
              "      <td>2016-05-14 10:54:33</td>\n",
              "      <td>10:54:33</td>\n",
              "      <td>-0.122628</td>\n",
              "      <td>0.315638</td>\n",
              "      <td>9.425655</td>\n",
              "      <td>-0.058695</td>\n",
              "      <td>0.009130</td>\n",
              "      <td>0.024406</td>\n",
              "      <td>0</td>\n",
              "    </tr>\n",
              "    <tr>\n",
              "      <th>2</th>\n",
              "      <td>2016-05-14 10:54:33</td>\n",
              "      <td>10:54:33</td>\n",
              "      <td>-0.178777</td>\n",
              "      <td>0.330180</td>\n",
              "      <td>9.445955</td>\n",
              "      <td>0.006625</td>\n",
              "      <td>-0.002283</td>\n",
              "      <td>-0.015018</td>\n",
              "      <td>0</td>\n",
              "    </tr>\n",
              "    <tr>\n",
              "      <th>3</th>\n",
              "      <td>2016-05-14 10:54:33</td>\n",
              "      <td>10:54:33</td>\n",
              "      <td>0.016043</td>\n",
              "      <td>0.038759</td>\n",
              "      <td>9.528445</td>\n",
              "      <td>0.064933</td>\n",
              "      <td>0.033172</td>\n",
              "      <td>-0.040503</td>\n",
              "      <td>0</td>\n",
              "    </tr>\n",
              "    <tr>\n",
              "      <th>4</th>\n",
              "      <td>2016-05-14 10:54:33</td>\n",
              "      <td>10:54:33</td>\n",
              "      <td>0.141716</td>\n",
              "      <td>-0.162492</td>\n",
              "      <td>9.756854</td>\n",
              "      <td>0.039454</td>\n",
              "      <td>-0.013078</td>\n",
              "      <td>-0.007681</td>\n",
              "      <td>0</td>\n",
              "    </tr>\n",
              "  </tbody>\n",
              "</table>\n",
              "</div>"
            ],
            "text/plain": [
              "             timedate      time     X_acc  ...     Y_gyr     Z_gyr  label\n",
              "0 2016-05-14 10:54:33  10:54:33 -0.161602  ...  0.000844  0.029619      0\n",
              "1 2016-05-14 10:54:33  10:54:33 -0.122628  ...  0.009130  0.024406      0\n",
              "2 2016-05-14 10:54:33  10:54:33 -0.178777  ... -0.002283 -0.015018      0\n",
              "3 2016-05-14 10:54:33  10:54:33  0.016043  ...  0.033172 -0.040503      0\n",
              "4 2016-05-14 10:54:33  10:54:33  0.141716  ... -0.013078 -0.007681      0\n",
              "\n",
              "[5 rows x 9 columns]"
            ]
          },
          "metadata": {
            "tags": []
          },
          "execution_count": 10
        }
      ]
    },
    {
      "cell_type": "code",
      "metadata": {
        "id": "wluSclYino2i"
      },
      "source": [
        "df.dropna(inplace = True)"
      ],
      "execution_count": null,
      "outputs": []
    },
    {
      "cell_type": "code",
      "metadata": {
        "id": "paVYzhhdaJg_"
      },
      "source": [
        "dftrain = df.copy()"
      ],
      "execution_count": null,
      "outputs": []
    },
    {
      "cell_type": "code",
      "metadata": {
        "id": "XWq2wcLOycv5"
      },
      "source": [
        "#Y is lateraal \n",
        "#X is longitudinal\n",
        "#Z is  vertical"
      ],
      "execution_count": null,
      "outputs": []
    },
    {
      "cell_type": "code",
      "metadata": {
        "id": "JOU1Alb3ad2e"
      },
      "source": [
        "def train_dataset(series,window_size, batch_size):\n",
        "    ds = tf.data.Dataset.from_tensor_slices((series))\n",
        "    ds = ds.window(window_size, shift=20, drop_remainder=True)\n",
        "    ds = ds.flat_map(lambda w: w.batch(window_size))\n",
        "    ds = ds.shuffle(10000).map(lambda window: (window[:,:-1], window[50,-1:]))\n",
        "    #ds = ds.batch(batch_size).prefetch(1)\n",
        "    return ds"
      ],
      "execution_count": null,
      "outputs": []
    },
    {
      "cell_type": "code",
      "metadata": {
        "id": "tE6jPPvFbhLO"
      },
      "source": [
        "train= train_dataset(dftrain[['X_acc','Y_acc','X_gyr','Y_gyr','Z_gyr','label']].values,100,128)"
      ],
      "execution_count": null,
      "outputs": []
    },
    {
      "cell_type": "code",
      "metadata": {
        "id": "5tt9xy6bz0Gx"
      },
      "source": [
        "X=[]\n",
        "y=[]\n",
        "for i,j in train:\n",
        "  X.append(i.numpy())\n",
        "  y.append(j.numpy())\n",
        "X = np.asarray(X)\n",
        "y = np.asarray(y)"
      ],
      "execution_count": null,
      "outputs": []
    },
    {
      "cell_type": "code",
      "metadata": {
        "id": "7A1V3ObmnoBm"
      },
      "source": [
        "def create_model(n, n_filters =32, filter_width = 10 , dilation_rates =[2**i for i in range(8)] * 2 ):\n",
        "\n",
        "  # define an input history series and pass it through a stack of dilated causal convolution blocks. \n",
        "  history_seq = Input(shape=(100, n))\n",
        "  x = history_seq\n",
        "\n",
        "  skips = []\n",
        "  for dilation_rate in dilation_rates:\n",
        "      \n",
        "      # preprocessing - equivalent to time-distributed dense\n",
        "      x = Conv1D(16, 1, padding='same', activation='relu')(x) \n",
        "      \n",
        "      # filter convolution\n",
        "      x_f = Conv1D(filters=n_filters,\n",
        "                  kernel_size=filter_width, \n",
        "                  padding='causal',\n",
        "                  dilation_rate=dilation_rate)(x)\n",
        "      \n",
        "      # gating convolution\n",
        "      x_g = Conv1D(filters=n_filters,\n",
        "                  kernel_size=filter_width, \n",
        "                  padding='causal',\n",
        "                  dilation_rate=dilation_rate)(x)\n",
        "      \n",
        "      # multiply filter and gating branches\n",
        "      z = Multiply()([Activation('tanh')(x_f),\n",
        "                      Activation('sigmoid')(x_g)])\n",
        "      \n",
        "      # postprocessing - equivalent to time-distributed dense\n",
        "      z = Conv1D(16, 1, padding='same', activation='relu')(z)\n",
        "      \n",
        "      # residual connection\n",
        "      x = Add()([x, z])    \n",
        "      \n",
        "      # collect skip connections\n",
        "      skips.append(z)\n",
        "\n",
        "  # add all skip connection outputs \n",
        "  out = Activation('relu')(Add()(skips))\n",
        "\n",
        "  # final time-distributed dense layers \n",
        "  out = Conv1D(100, 1, padding='same')(out)\n",
        "  out = Activation('relu')(out)\n",
        "  out = Dropout(.2)(out)\n",
        "  out = Conv1D(1,1, padding='same')(out)\n",
        "  out = Flatten()(out)\n",
        "  out = Dense(100, activation='relu')(out)\n",
        "  out = Dropout(.3)(out)\n",
        "  out = Dense(10, activation='relu')(out)\n",
        "  out = Dense(1, activation='sigmoid')(out)\n",
        "\n",
        "  model = Model(history_seq, out)\n",
        "  model.compile(tf.keras.optimizers.Adam(lr = 1e-4), loss='binary_crossentropy', metrics =METRICS)\n",
        "  return model"
      ],
      "execution_count": null,
      "outputs": []
    },
    {
      "cell_type": "code",
      "metadata": {
        "id": "Ko14UipbHwoz"
      },
      "source": [
        "weight_for_0 = (1 / 110178)*(116512)/2.0\n",
        "weight_for_1 = (1 / 6334)*(116512)/2.0\n",
        "\n",
        "class_weight = {0: 1, 1: 2}\n",
        "METRICS = [\n",
        "      tf.keras.metrics.TruePositives(name='tp'),\n",
        "      tf.keras.metrics.FalsePositives(name='fp'),\n",
        "      tf.keras.metrics.TrueNegatives(name='tn'),\n",
        "      tf.keras.metrics.FalseNegatives(name='fn'), \n",
        "      tf.keras.metrics.BinaryAccuracy(name='accuracy', threshold =0.5),\n",
        "      tf.keras.metrics.Precision(name='precision'),\n",
        "      tf.keras.metrics.Recall(name='recall'),\n",
        "      tf.keras.metrics.AUC(name='auc')\n",
        "]\n"
      ],
      "execution_count": null,
      "outputs": []
    },
    {
      "cell_type": "code",
      "metadata": {
        "id": "TJsCqUAng_k6",
        "outputId": "0cd8e006-66a8-498c-dc03-08e04b1fe1b7",
        "colab": {
          "base_uri": "https://localhost:8080/",
          "height": 68
        }
      },
      "source": [
        "auc =[]\n",
        "val_auc =[]\n",
        "from sklearn.model_selection import StratifiedShuffleSplit\n",
        "sss = StratifiedShuffleSplit(n_splits=3, test_size=0.25, random_state=47)\n",
        "for train_index, test_index in sss.split(X, y):\n",
        "  X_train, X_test = X[train_index], X[test_index]\n",
        "  y_train, y_test = y[train_index], y[test_index]\n",
        "  model = create_model(5)\n",
        "  history = model.fit(X_train, y_train,batch_size =64,  epochs =50, validation_data=(X_test, y_test),verbose = 0,validation_batch_size=64,callbacks =[tf.keras.callbacks.EarlyStopping(monitor='val_loss', patience=7)])\n",
        "  if history.history['accuracy'][-7]> 0.95 and history.history['val_accuracy'][-7] >0.95:\n",
        "    print('The model is better than a simple constant model for sure:')\n",
        "    auc.append(history.history['auc'][-7])\n",
        "    val_auc.append(history.history['val_auc'][-7])\n",
        "  else:\n",
        "    print('This prediction is garbage')\n"
      ],
      "execution_count": null,
      "outputs": [
        {
          "output_type": "stream",
          "text": [
            "The model is better than a simple constant model for sure:\n",
            "The model is better than a simple constant model for sure:\n",
            "The model is better than a simple constant model for sure:\n"
          ],
          "name": "stdout"
        }
      ]
    },
    {
      "cell_type": "code",
      "metadata": {
        "id": "e0wqe2ArzCej",
        "outputId": "367250a0-0e74-4b8d-8f73-ad6894f565b3",
        "colab": {
          "base_uri": "https://localhost:8080/",
          "height": 156
        }
      },
      "source": [
        "tf.saved_model.save(model,'/content/drive/My Drive/final_model/my_model') "
      ],
      "execution_count": null,
      "outputs": [
        {
          "output_type": "stream",
          "text": [
            "WARNING:tensorflow:From /usr/local/lib/python3.6/dist-packages/tensorflow/python/training/tracking/tracking.py:111: Model.state_updates (from tensorflow.python.keras.engine.training) is deprecated and will be removed in a future version.\n",
            "Instructions for updating:\n",
            "This property should not be used in TensorFlow 2.0, as updates are applied automatically.\n",
            "WARNING:tensorflow:From /usr/local/lib/python3.6/dist-packages/tensorflow/python/training/tracking/tracking.py:111: Layer.updates (from tensorflow.python.keras.engine.base_layer) is deprecated and will be removed in a future version.\n",
            "Instructions for updating:\n",
            "This property should not be used in TensorFlow 2.0, as updates are applied automatically.\n",
            "INFO:tensorflow:Assets written to: /content/drive/My Drive/final_model/my_model/assets\n"
          ],
          "name": "stdout"
        }
      ]
    },
    {
      "cell_type": "code",
      "metadata": {
        "id": "Kl6QZjvU3ful",
        "outputId": "4a4f0102-2673-4cc7-a442-a777435b0c29",
        "colab": {
          "base_uri": "https://localhost:8080/",
          "height": 34
        }
      },
      "source": [
        "auc"
      ],
      "execution_count": null,
      "outputs": [
        {
          "output_type": "execute_result",
          "data": {
            "text/plain": [
              "[0.9846182465553284, 0.9628108143806458, 0.96498042345047]"
            ]
          },
          "metadata": {
            "tags": []
          },
          "execution_count": 20
        }
      ]
    },
    {
      "cell_type": "code",
      "metadata": {
        "id": "AMuBcNSL3hkQ",
        "outputId": "858eb27f-7df7-4fbd-90cd-aca84e8f3a63",
        "colab": {
          "base_uri": "https://localhost:8080/",
          "height": 34
        }
      },
      "source": [
        "val_auc"
      ],
      "execution_count": null,
      "outputs": [
        {
          "output_type": "execute_result",
          "data": {
            "text/plain": [
              "[0.9845204949378967, 0.9615933299064636, 0.9586136341094971]"
            ]
          },
          "metadata": {
            "tags": []
          },
          "execution_count": 21
        }
      ]
    },
    {
      "cell_type": "code",
      "metadata": {
        "id": "we8UKquX2nYF",
        "outputId": "49f35ba7-2433-40f6-a472-6bb56cca5bc0",
        "colab": {
          "base_uri": "https://localhost:8080/",
          "height": 282
        }
      },
      "source": [
        "plt.plot(history.history['accuracy'][5:], color ='blue')\n",
        "plt.plot(history.history['val_accuracy'][5:], color ='orange')"
      ],
      "execution_count": null,
      "outputs": [
        {
          "output_type": "execute_result",
          "data": {
            "text/plain": [
              "[<matplotlib.lines.Line2D at 0x7f4e55ec0710>]"
            ]
          },
          "metadata": {
            "tags": []
          },
          "execution_count": 30
        },
        {
          "output_type": "display_data",
          "data": {
            "image/png": "[encoded data removed]",
            "text/plain": [
              "<Figure size 432x288 with 1 Axes>"
            ]
          },
          "metadata": {
            "tags": [],
            "needs_background": "light"
          }
        }
      ]
    },
    {
      "cell_type": "code",
      "metadata": {
        "id": "TDunN09ovN0O",
        "outputId": "c5625512-3279-4fb8-de8f-3cb638fa3496",
        "colab": {
          "base_uri": "https://localhost:8080/",
          "height": 286
        }
      },
      "source": [
        "plt.plot(history.history['auc'][5:], color ='blue')\n",
        "plt.plot(history.history['val_auc'][5:], color ='orange')"
      ],
      "execution_count": null,
      "outputs": [
        {
          "output_type": "execute_result",
          "data": {
            "text/plain": [
              "[<matplotlib.lines.Line2D at 0x7f4e55ec0470>]"
            ]
          },
          "metadata": {
            "tags": []
          },
          "execution_count": 31
        },
        {
          "output_type": "display_data",
          "data": {
            "image/png": "[encoded data removed]",
            "text/plain": [
              "<Figure size 432x288 with 1 Axes>"
            ]
          },
          "metadata": {
            "tags": [],
            "needs_background": "light"
          }
        }
      ]
    },
    {
      "cell_type": "code",
      "metadata": {
        "id": "HwRIl1uCgig_"
      },
      "source": [
        "loaded_model = tf.keras.models.load_model('/content/drive/My Drive/final_model/my_model')"
      ],
      "execution_count": null,
      "outputs": []
    },
    {
      "cell_type": "code",
      "metadata": {
        "id": "2YSW3gX-U6VF"
      },
      "source": [
        "pr = loaded_model.predict(X, batch_size = 64)"
      ],
      "execution_count": null,
      "outputs": []
    },
    {
      "cell_type": "code",
      "metadata": {
        "id": "L3qtHOthVwZb",
        "outputId": "3d8ec28e-16ab-46df-bf95-32c230a7fe35",
        "colab": {
          "base_uri": "https://localhost:8080/",
          "height": 34
        }
      },
      "source": [
        "from sklearn.metrics import roc_auc_score\n",
        "roc_auc_score(y,pr)"
      ],
      "execution_count": null,
      "outputs": [
        {
          "output_type": "execute_result",
          "data": {
            "text/plain": [
              "0.9827366446684629"
            ]
          },
          "metadata": {
            "tags": []
          },
          "execution_count": 29
        }
      ]
    },
    {
      "cell_type": "code",
      "metadata": {
        "id": "J4adKq41Wb0p"
      },
      "source": [
        "converter = tf.lite.TFLiteConverter.from_saved_model('/content/drive/My Drive/final_model/my_model') # path to the SavedModel directory\n",
        "converter.allow_custom_ops = True\n",
        "tflite_model = converter.convert()\n"
      ],
      "execution_count": null,
      "outputs": []
    },
    {
      "cell_type": "code",
      "metadata": {
        "id": "akNPgzP5XMsr"
      },
      "source": [
        "with open('/content/drive/My Drive/final_model/model.tflite', 'wb') as f:\n",
        "  f.write(tflite_model)"
      ],
      "execution_count": null,
      "outputs": []
    },
    {
      "cell_type": "code",
      "metadata": {
        "id": "-47-QNsnXxQA"
      },
      "source": [
        ""
      ],
      "execution_count": null,
      "outputs": []
    }
  ]
}