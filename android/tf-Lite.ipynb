{
 "cells": [
  {
   "cell_type": "code",
   "execution_count": 37,
   "metadata": {},
   "outputs": [],
   "source": [
    "import sys\n",
    "sys.path[1] = '/Users/vishwajit/.pyenv/versions/3.7.3/lib/python3.7/site-packages'\n",
    "import tensorflow as tf\n",
    "import numpy as np\n",
    "import os\n",
    "import pandas as pd\n",
    "from tensorflow.keras import layers\n",
    "from datetime import datetime\n",
    "from matplotlib import pyplot as plt\n",
    "from matplotlib import dates as md\n",
    "import plotly.express as px\n",
    "from sklearn.preprocessing import StandardScaler\n",
    "from tensorflow.keras.models import Sequential, Model\n",
    "from tensorflow.keras.layers import Input, Conv1D, Dense, Activation, Dropout, Lambda, Multiply, Add, Concatenate\n",
    "from tensorflow.keras.layers import Flatten\n",
    "from tensorflow.keras.layers import Conv1D,Conv2D,LSTM,GRU,Lambda\n",
    "from tensorflow.keras.layers import MaxPooling1D, Bidirectional\n",
    "from sklearn.metrics import accuracy_score\n",
    "import datetime\n",
    "from tqdm import tqdm\n",
    "from sklearn.utils import shuffle\n",
    "import os\n",
    "from scipy import signal\n",
    "import gc"
   ]
  },
  {
   "cell_type": "code",
   "execution_count": 2,
   "metadata": {},
   "outputs": [],
   "source": [
    "converter = tf.lite.TFLiteConverter.from_saved_model('final_model/my_model')\n",
    "lite_model = converter.convert()"
   ]
  },
  {
   "cell_type": "code",
   "execution_count": 43,
   "metadata": {},
   "outputs": [
    {
     "ename": "TypeError",
     "evalue": "list indices must be integers or slices, not list",
     "output_type": "error",
     "traceback": [
      "\u001b[0;31m---------------------------------------------------------------------------\u001b[0m",
      "\u001b[0;31mTypeError\u001b[0m                                 Traceback (most recent call last)",
      "\u001b[0;32m<ipython-input-43-75a3b28eebff>\u001b[0m in \u001b[0;36m<module>\u001b[0;34m\u001b[0m\n\u001b[1;32m      1\u001b[0m \u001b[0mx\u001b[0m \u001b[0;34m=\u001b[0m \u001b[0;34m[\u001b[0m\u001b[0;36m1\u001b[0m\u001b[0;34m,\u001b[0m\u001b[0;36m2\u001b[0m\u001b[0;34m,\u001b[0m\u001b[0;36m3\u001b[0m\u001b[0;34m]\u001b[0m\u001b[0;34m\u001b[0m\u001b[0;34m\u001b[0m\u001b[0m\n\u001b[0;32m----> 2\u001b[0;31m \u001b[0mx\u001b[0m\u001b[0;34m[\u001b[0m\u001b[0;34m[\u001b[0m\u001b[0;36m0\u001b[0m\u001b[0;34m,\u001b[0m\u001b[0;36m1\u001b[0m\u001b[0;34m]\u001b[0m\u001b[0;34m]\u001b[0m\u001b[0;34m\u001b[0m\u001b[0;34m\u001b[0m\u001b[0m\n\u001b[0m",
      "\u001b[0;31mTypeError\u001b[0m: list indices must be integers or slices, not list"
     ]
    }
   ],
   "source": []
  },
  {
   "cell_type": "code",
   "execution_count": 3,
   "metadata": {},
   "outputs": [
    {
     "data": {
      "text/plain": [
       "348316"
      ]
     },
     "execution_count": 3,
     "metadata": {},
     "output_type": "execute_result"
    }
   ],
   "source": [
    "open(\"sensor_converted_model.tflite\", \"wb\").write(lite_model)"
   ]
  },
  {
   "cell_type": "code",
   "execution_count": 4,
   "metadata": {},
   "outputs": [],
   "source": [
    "interpreter = tf.lite.Interpreter(model_path=\"sensor_converted_model.tflite\")\n",
    "interpreter.allocate_tensors()\n",
    "\n",
    "input_details = interpreter.get_input_details()\n",
    "output_details = interpreter.get_output_details()\n",
    "\n",
    "input_shape = input_details[0]['shape']\n",
    "input_data = np.array(np.random.random_sample(input_shape), dtype=np.float32)\n",
    "interpreter.set_tensor(input_details[0]['index'], input_data)\n",
    "\n",
    "interpreter.invoke()\n",
    "interpreter.allocate_tensors()\n",
    "\n",
    "output_data = interpreter.get_tensor(output_details[0]['index'])"
   ]
  },
  {
   "cell_type": "code",
   "execution_count": 31,
   "metadata": {},
   "outputs": [
    {
     "data": {
      "text/plain": [
       "array([  1, 100,   5], dtype=int32)"
      ]
     },
     "execution_count": 31,
     "metadata": {},
     "output_type": "execute_result"
    }
   ],
   "source": [
    "input_shape"
   ]
  },
  {
   "cell_type": "code",
   "execution_count": 5,
   "metadata": {},
   "outputs": [
    {
     "name": "stdout",
     "output_type": "stream",
     "text": [
      "driver1\n",
      "aceleracaoLinear_terra.txt\n",
      "giroscopio_terra.txt\n",
      "acelerometro_terra.txt\n",
      "groundTruth.txt\n",
      "driver2\n",
      "aceleracaoLinear_terra.txt\n",
      "giroscopio_terra.txt\n",
      "acelerometro_terra.txt\n",
      "groundTruth.txt\n",
      "driver4\n",
      "aceleracaoLinear_terra.txt\n",
      "giroscopio_terra.txt\n",
      "acelerometro_terra.txt\n",
      "groundTruth.txt\n",
      "driver3\n",
      "aceleracaoLinear_terra.txt\n",
      "giroscopio_terra.txt\n",
      "acelerometro_terra.txt\n",
      "groundTruth.txt\n"
     ]
    }
   ],
   "source": [
    "df=pd.DataFrame()\n",
    "df1 = pd.DataFrame()\n",
    "os.chdir('/Users/vishwajit/Desktop/Driver Performance Analysis Files/labelled_driver_data')\n",
    "for files in os.listdir(os.getcwd()):\n",
    "    print(files)\n",
    "    if files!='river4':\n",
    "        os.chdir('/Users/vishwajit/Desktop/Driver Performance Analysis Files/labelled_driver_data/{}'.format(files))\n",
    "        for filename in os.listdir(os.getcwd()):\n",
    "            print(filename)\n",
    "            if 'acelerometro' in filename:\n",
    "                data = pd.read_csv(filename ,sep =',', header = 0 )\n",
    "                data.columns=['timestamp','uptimeNanos','X','Y','Z']\n",
    "                data['label'] = 0\n",
    "                data['device'] = 'acc'\n",
    "                data['uptimeNanos'] /= 1e9\n",
    "            elif 'giro' in filename:\n",
    "                data2 = pd.read_csv(filename ,sep =',', header = 0 )\n",
    "                data2.columns=['timestamp','uptimeNanos','X','Y','Z']\n",
    "                data2['label'] = 0\n",
    "                data2['device'] = 'gyr'\n",
    "                data2['uptimeNanos'] /= 1e9\n",
    "            elif 'ground' in filename:\n",
    "                labels = pd.read_csv(filename , sep=',')\n",
    "                labels[' inicio'] += data['uptimeNanos'][0]\n",
    "                labels[' fim'] += data['uptimeNanos'][0]\n",
    "\n",
    "        for event,start, end in labels.values:\n",
    "            #print(data2.loc[data2.uptimeNanos.between(start, end),['label']].shape[0])\n",
    "            data.loc[data.uptimeNanos.between(start, end),['label']] = [event]\n",
    "            data2.loc[data2.uptimeNanos.between(start, end),['label']] = [event]\n",
    "        df1 = pd.concat([data,data2], axis =1 , ignore_index=True)\n",
    "        df = df.append(df1)\n",
    "        del data, data2, labels\n"
   ]
  },
  {
   "cell_type": "code",
   "execution_count": 6,
   "metadata": {},
   "outputs": [],
   "source": [
    "df.columns =['timedate','time','X_acc','Y_acc','Z_acc','label','device','s','s1','X_gyr','Y_gyr','Z_gyr','s2','s3']\n",
    "df.timedate = pd.to_datetime(df.timedate)\n",
    "df['label'] = df.label.apply(lambda x : 0 if x in ['evento_nao_agressivo',0] else 1)"
   ]
  },
  {
   "cell_type": "code",
   "execution_count": 7,
   "metadata": {},
   "outputs": [
    {
     "name": "stdout",
     "output_type": "stream",
     "text": [
      "The sampling frequency in Hz is: 50.8816644993498\n"
     ]
    }
   ],
   "source": [
    "df['time'] = df.timedate.apply(lambda x : x.time())\n",
    "print('The sampling frequency in Hz is:',df.groupby('time').X_gyr.count().mean())"
   ]
  },
  {
   "cell_type": "code",
   "execution_count": 8,
   "metadata": {},
   "outputs": [],
   "source": [
    "df = df[['timedate','time','X_acc','Y_acc','Z_acc','X_gyr','Y_gyr','Z_gyr','label']]"
   ]
  },
  {
   "cell_type": "code",
   "execution_count": 9,
   "metadata": {},
   "outputs": [
    {
     "data": {
      "text/html": [
       "<div>\n",
       "<style scoped>\n",
       "    .dataframe tbody tr th:only-of-type {\n",
       "        vertical-align: middle;\n",
       "    }\n",
       "\n",
       "    .dataframe tbody tr th {\n",
       "        vertical-align: top;\n",
       "    }\n",
       "\n",
       "    .dataframe thead th {\n",
       "        text-align: right;\n",
       "    }\n",
       "</style>\n",
       "<table border=\"1\" class=\"dataframe\">\n",
       "  <thead>\n",
       "    <tr style=\"text-align: right;\">\n",
       "      <th></th>\n",
       "      <th>timedate</th>\n",
       "      <th>time</th>\n",
       "      <th>X_acc</th>\n",
       "      <th>Y_acc</th>\n",
       "      <th>Z_acc</th>\n",
       "      <th>X_gyr</th>\n",
       "      <th>Y_gyr</th>\n",
       "      <th>Z_gyr</th>\n",
       "      <th>label</th>\n",
       "    </tr>\n",
       "  </thead>\n",
       "  <tbody>\n",
       "    <tr>\n",
       "      <th>0</th>\n",
       "      <td>2016-05-14 11:17:09</td>\n",
       "      <td>11:17:09</td>\n",
       "      <td>-0.047600</td>\n",
       "      <td>0.004670</td>\n",
       "      <td>9.852109</td>\n",
       "      <td>0.030578</td>\n",
       "      <td>-0.035392</td>\n",
       "      <td>-0.033423</td>\n",
       "      <td>0</td>\n",
       "    </tr>\n",
       "    <tr>\n",
       "      <th>1</th>\n",
       "      <td>2016-05-14 11:17:09</td>\n",
       "      <td>11:17:09</td>\n",
       "      <td>-0.066993</td>\n",
       "      <td>0.060984</td>\n",
       "      <td>9.634208</td>\n",
       "      <td>-0.007943</td>\n",
       "      <td>-0.017933</td>\n",
       "      <td>-0.022102</td>\n",
       "      <td>0</td>\n",
       "    </tr>\n",
       "    <tr>\n",
       "      <th>2</th>\n",
       "      <td>2016-05-14 11:17:09</td>\n",
       "      <td>11:17:09</td>\n",
       "      <td>-0.200131</td>\n",
       "      <td>0.170454</td>\n",
       "      <td>9.512366</td>\n",
       "      <td>-0.005299</td>\n",
       "      <td>-0.041667</td>\n",
       "      <td>-0.008381</td>\n",
       "      <td>0</td>\n",
       "    </tr>\n",
       "    <tr>\n",
       "      <th>3</th>\n",
       "      <td>2016-05-14 11:17:09</td>\n",
       "      <td>11:17:09</td>\n",
       "      <td>-0.185315</td>\n",
       "      <td>-0.039818</td>\n",
       "      <td>9.671576</td>\n",
       "      <td>0.020004</td>\n",
       "      <td>0.012221</td>\n",
       "      <td>0.001138</td>\n",
       "      <td>0</td>\n",
       "    </tr>\n",
       "    <tr>\n",
       "      <th>4</th>\n",
       "      <td>2016-05-14 11:17:09</td>\n",
       "      <td>11:17:09</td>\n",
       "      <td>-0.011559</td>\n",
       "      <td>0.049461</td>\n",
       "      <td>9.844943</td>\n",
       "      <td>-0.025175</td>\n",
       "      <td>0.020601</td>\n",
       "      <td>0.023692</td>\n",
       "      <td>0</td>\n",
       "    </tr>\n",
       "  </tbody>\n",
       "</table>\n",
       "</div>"
      ],
      "text/plain": [
       "             timedate      time     X_acc     Y_acc     Z_acc     X_gyr  \\\n",
       "0 2016-05-14 11:17:09  11:17:09 -0.047600  0.004670  9.852109  0.030578   \n",
       "1 2016-05-14 11:17:09  11:17:09 -0.066993  0.060984  9.634208 -0.007943   \n",
       "2 2016-05-14 11:17:09  11:17:09 -0.200131  0.170454  9.512366 -0.005299   \n",
       "3 2016-05-14 11:17:09  11:17:09 -0.185315 -0.039818  9.671576  0.020004   \n",
       "4 2016-05-14 11:17:09  11:17:09 -0.011559  0.049461  9.844943 -0.025175   \n",
       "\n",
       "      Y_gyr     Z_gyr  label  \n",
       "0 -0.035392 -0.033423      0  \n",
       "1 -0.017933 -0.022102      0  \n",
       "2 -0.041667 -0.008381      0  \n",
       "3  0.012221  0.001138      0  \n",
       "4  0.020601  0.023692      0  "
      ]
     },
     "execution_count": 9,
     "metadata": {},
     "output_type": "execute_result"
    }
   ],
   "source": [
    "df.head()"
   ]
  },
  {
   "cell_type": "code",
   "execution_count": 10,
   "metadata": {},
   "outputs": [],
   "source": [
    "df.dropna(inplace = True)\n",
    "dftrain = df.copy()\n",
    "def train_dataset(series,window_size, batch_size):\n",
    "    ds = tf.data.Dataset.from_tensor_slices((series))\n",
    "    ds = ds.window(window_size, shift=20, drop_remainder=True)\n",
    "    ds = ds.flat_map(lambda w: w.batch(window_size))\n",
    "    ds = ds.shuffle(10000).map(lambda window: (window[:,:-1], window[50,-1:]))\n",
    "    #ds = ds.batch(batch_size).prefetch(1)\n",
    "    return ds\n",
    "train= train_dataset(dftrain[['X_acc','Y_acc','X_gyr','Y_gyr','Z_gyr','label']].values,100,128)"
   ]
  },
  {
   "cell_type": "code",
   "execution_count": 11,
   "metadata": {},
   "outputs": [],
   "source": [
    "X=[]\n",
    "y=[]\n",
    "for i,j in train:\n",
    "    X.append(i.numpy())\n",
    "    y.append(j.numpy())\n",
    "X = np.asarray(X)\n",
    "y = np.asarray(y)"
   ]
  },
  {
   "cell_type": "code",
   "execution_count": 36,
   "metadata": {},
   "outputs": [],
   "source": [
    "y_pred = np.zeros(X.shape[0])\n",
    "i = 0\n",
    "for x in X:   \n",
    "    interpreter.allocate_tensors()\n",
    "    input_details = interpreter.get_input_details()\n",
    "    output_details = interpreter.get_output_details()\n",
    "    x = x.reshape(1,100,5)\n",
    "    input_data = np.array(x, dtype=np.float32)\n",
    "    interpreter.set_tensor(input_details[0]['index'], input_data)\n",
    "    interpreter.invoke()\n",
    "    output_data = interpreter.get_tensor(output_details[0]['index'])\n",
    "    y_pred[i] = output_data[0][0]\n",
    "    i+=1"
   ]
  },
  {
   "cell_type": "code",
   "execution_count": 42,
   "metadata": {},
   "outputs": [
    {
     "data": {
      "text/plain": [
       "0.9707198567958062"
      ]
     },
     "execution_count": 42,
     "metadata": {},
     "output_type": "execute_result"
    }
   ],
   "source": [
    "y_pred = [0 if p<0.5 else 1 for p in y_pred]\n",
    "accuracy_score(y,y_pred)"
   ]
  }
 ],
 "metadata": {
  "kernelspec": {
   "display_name": "Python 3",
   "language": "python",
   "name": "python3"
  },
  "language_info": {
   "codemirror_mode": {
    "name": "ipython",
    "version": 3
   },
   "file_extension": ".py",
   "mimetype": "text/x-python",
   "name": "python",
   "nbconvert_exporter": "python",
   "pygments_lexer": "ipython3",
   "version": "3.7.3"
  }
 },
 "nbformat": 4,
 "nbformat_minor": 4
}
